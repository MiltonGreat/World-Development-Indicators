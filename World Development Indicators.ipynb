{
 "cells": [
  {
   "cell_type": "markdown",
   "id": "27e3dd83-0df4-4ae8-a1f4-c0ed91e58518",
   "metadata": {},
   "source": [
    "# World Development Indicators"
   ]
  },
  {
   "cell_type": "markdown",
   "id": "7413d79f-041a-4b75-aad1-bbfd06b53006",
   "metadata": {},
   "source": [
    "### Step 1: Import Libraries"
   ]
  },
  {
   "cell_type": "code",
   "execution_count": 1,
   "id": "fa11d53b-92b0-4748-81c4-188a6813d4af",
   "metadata": {},
   "outputs": [],
   "source": [
    "import pandas as pd\n",
    "import numpy as np\n",
    "import matplotlib.pyplot as plt\n",
    "import seaborn as sns\n",
    "import sqlite3\n",
    "import zipfile"
   ]
  },
  {
   "cell_type": "markdown",
   "id": "34163450-ecde-45d0-bdf8-88784a194fbb",
   "metadata": {},
   "source": [
    "### Step 2: Extract and Load Data"
   ]
  },
  {
   "cell_type": "code",
   "execution_count": 2,
   "id": "ad451f74-f6d0-4a4a-9b95-10a8d0424f08",
   "metadata": {},
   "outputs": [
    {
     "name": "stdout",
     "output_type": "stream",
     "text": [
      "Extracted files: ['P_Data_Extract_From_World_Development_Indicators_all_years_for_kaggle.xlsx']\n",
      "File loaded successfully.\n",
      "Available sheets: ['Data', 'Series - Metadata']\n",
      "\n",
      "Preview of the data:\n",
      "  Country Name Country Code  Time Time Code  \\\n",
      "0  Afghanistan          AFG  1960    YR1960   \n",
      "1  Afghanistan          AFG  1961    YR1961   \n",
      "2  Afghanistan          AFG  1962    YR1962   \n",
      "3  Afghanistan          AFG  1963    YR1963   \n",
      "4  Afghanistan          AFG  1964    YR1964   \n",
      "\n",
      "   Access to electricity (% of population) [EG.ELC.ACCS.ZS]  \\\n",
      "0                                                NaN          \n",
      "1                                                NaN          \n",
      "2                                                NaN          \n",
      "3                                                NaN          \n",
      "4                                                NaN          \n",
      "\n",
      "   Adjusted savings: education expenditure (% of GNI) [NY.ADJ.AEDU.GN.ZS]  \\\n",
      "0                                                NaN                        \n",
      "1                                                NaN                        \n",
      "2                                                NaN                        \n",
      "3                                                NaN                        \n",
      "4                                                NaN                        \n",
      "\n",
      "   Automated teller machines (ATMs) (per 100,000 adults) [FB.ATM.TOTL.P5]  \\\n",
      "0                                                NaN                        \n",
      "1                                                NaN                        \n",
      "2                                                NaN                        \n",
      "3                                                NaN                        \n",
      "4                                                NaN                        \n",
      "\n",
      "   Birth rate, crude (per 1,000 people) [SP.DYN.CBRT.IN]  \\\n",
      "0                                             50.340       \n",
      "1                                             50.443       \n",
      "2                                             50.570       \n",
      "3                                             50.703       \n",
      "4                                             50.831       \n",
      "\n",
      "   Claims on central government, etc. (% GDP) [FS.AST.CGOV.GD.ZS]  \\\n",
      "0                                           5.016529                \n",
      "1                                           9.388664                \n",
      "2                                          12.093496                \n",
      "3                                          10.857987                \n",
      "4                                          13.899999                \n",
      "\n",
      "   Commercial bank branches (per 100,000 adults) [FB.CBK.BRCH.P5]  ...  \\\n",
      "0                                                NaN               ...   \n",
      "1                                                NaN               ...   \n",
      "2                                                NaN               ...   \n",
      "3                                                NaN               ...   \n",
      "4                                                NaN               ...   \n",
      "\n",
      "   Surface area (sq. km) [AG.SRF.TOTL.K2]  \\\n",
      "0                                     NaN   \n",
      "1                                652860.0   \n",
      "2                                652860.0   \n",
      "3                                652860.0   \n",
      "4                                652860.0   \n",
      "\n",
      "   Survival to age 65, female (% of cohort) [SP.DYN.TO65.FE.ZS]  \\\n",
      "0                                          21.190631              \n",
      "1                                          21.819029              \n",
      "2                                          22.397017              \n",
      "3                                          22.973204              \n",
      "4                                          23.546267              \n",
      "\n",
      "   Survival to age 65, male (% of cohort) [SP.DYN.TO65.MA.ZS]  \\\n",
      "0                                          17.743034            \n",
      "1                                          18.350272            \n",
      "2                                          18.878496            \n",
      "3                                          19.395900            \n",
      "4                                          19.941843            \n",
      "\n",
      "   Trade (% of GDP) [NE.TRD.GNFS.ZS]  \\\n",
      "0                          11.157027   \n",
      "1                          12.550610   \n",
      "2                          14.227644   \n",
      "3                          26.035511   \n",
      "4                          26.944448   \n",
      "\n",
      "   UHC service coverage index [SH.UHC.SRVS.CV.XD]  \\\n",
      "0                                             NaN   \n",
      "1                                             NaN   \n",
      "2                                             NaN   \n",
      "3                                             NaN   \n",
      "4                                             NaN   \n",
      "\n",
      "   Unemployment, female (% of female labor force) (modeled ILO estimate) [SL.UEM.TOTL.FE.ZS]  \\\n",
      "0                                                NaN                                           \n",
      "1                                                NaN                                           \n",
      "2                                                NaN                                           \n",
      "3                                                NaN                                           \n",
      "4                                                NaN                                           \n",
      "\n",
      "   Unemployment, male (% of male labor force) (modeled ILO estimate) [SL.UEM.TOTL.MA.ZS]  \\\n",
      "0                                                NaN                                       \n",
      "1                                                NaN                                       \n",
      "2                                                NaN                                       \n",
      "3                                                NaN                                       \n",
      "4                                                NaN                                       \n",
      "\n",
      "   Unemployment, total (% of total labor force) (modeled ILO estimate) [SL.UEM.TOTL.ZS]  \\\n",
      "0                                                NaN                                      \n",
      "1                                                NaN                                      \n",
      "2                                                NaN                                      \n",
      "3                                                NaN                                      \n",
      "4                                                NaN                                      \n",
      "\n",
      "   Urban population (% of total population) [SP.URB.TOTL.IN.ZS]  \\\n",
      "0                                              8.401              \n",
      "1                                              8.684              \n",
      "2                                              8.976              \n",
      "3                                              9.276              \n",
      "4                                              9.586              \n",
      "\n",
      "   Voice and Accountability: Estimate [VA.EST]  \n",
      "0                                          NaN  \n",
      "1                                          NaN  \n",
      "2                                          NaN  \n",
      "3                                          NaN  \n",
      "4                                          NaN  \n",
      "\n",
      "[5 rows x 63 columns]\n",
      "Data loaded into SQLite table 'world_development_indicators'.\n"
     ]
    }
   ],
   "source": [
    "# Extract the ZIP file\n",
    "zip_file_path = 'World Development Indicators.zip'\n",
    "extracted_file_name = 'P_Data_Extract_From_World_Development_Indicators_all_years_for_kaggle.xlsx'\n",
    "\n",
    "with zipfile.ZipFile(zip_file_path, 'r') as zip_ref:\n",
    "    zip_ref.extractall()  # Extracts to the current directory\n",
    "    print(f\"Extracted files: {zip_ref.namelist()}\")\n",
    "\n",
    "# Verify extraction\n",
    "try:\n",
    "    # Load the Excel file into a DataFrame\n",
    "    data_file = pd.ExcelFile(extracted_file_name)\n",
    "    print(\"File loaded successfully.\")\n",
    "    print(\"Available sheets:\", data_file.sheet_names)\n",
    "except FileNotFoundError:\n",
    "    print(\"File not found after extraction.\")\n",
    "\n",
    "# Load data into SQLite\n",
    "# Connect to SQLite\n",
    "db_path = 'world_development_indicators.db'\n",
    "conn = sqlite3.connect(db_path)\n",
    "\n",
    "# Load the first sheet of the Excel file into a DataFrame\n",
    "sheet_name = data_file.sheet_names[0]\n",
    "df = pd.read_excel(data_file, sheet_name=sheet_name)\n",
    "\n",
    "# Display data preview and save to SQLite\n",
    "print(\"\\nPreview of the data:\")\n",
    "print(df.head())\n",
    "\n",
    "# Save to SQLite\n",
    "table_name = 'world_development_indicators'\n",
    "df.to_sql(table_name, conn, if_exists='replace', index=False)\n",
    "print(f\"Data loaded into SQLite table '{table_name}'.\")\n"
   ]
  },
  {
   "cell_type": "markdown",
   "id": "aef469f7-8e77-4610-b1f8-90147ee1a751",
   "metadata": {},
   "source": [
    "### Step 3: Explore the Data"
   ]
  },
  {
   "cell_type": "code",
   "execution_count": 3,
   "id": "d5c6c2ef-cfe0-4fd2-8c0b-e244445ea239",
   "metadata": {},
   "outputs": [
    {
     "name": "stdout",
     "output_type": "stream",
     "text": [
      "\n",
      "Table Schema:\n",
      "    cid                                               name     type  notnull  \\\n",
      "0     0                                       Country Name     TEXT        0   \n",
      "1     1                                       Country Code     TEXT        0   \n",
      "2     2                                               Time  INTEGER        0   \n",
      "3     3                                          Time Code     TEXT        0   \n",
      "4     4  Access to electricity (% of population) [EG.EL...     REAL        0   \n",
      "..  ...                                                ...      ...      ...   \n",
      "58   58  Unemployment, female (% of female labor force)...     REAL        0   \n",
      "59   59  Unemployment, male (% of male labor force) (mo...     REAL        0   \n",
      "60   60  Unemployment, total (% of total labor force) (...     REAL        0   \n",
      "61   61  Urban population (% of total population) [SP.U...     REAL        0   \n",
      "62   62        Voice and Accountability: Estimate [VA.EST]     REAL        0   \n",
      "\n",
      "   dflt_value  pk  \n",
      "0        None   0  \n",
      "1        None   0  \n",
      "2        None   0  \n",
      "3        None   0  \n",
      "4        None   0  \n",
      "..        ...  ..  \n",
      "58       None   0  \n",
      "59       None   0  \n",
      "60       None   0  \n",
      "61       None   0  \n",
      "62       None   0  \n",
      "\n",
      "[63 rows x 6 columns]\n"
     ]
    }
   ],
   "source": [
    "# Define the table name if not already defined\n",
    "table_name = 'world_development_indicators'\n",
    "\n",
    "# Display table schema\n",
    "query = f\"PRAGMA table_info({table_name});\"\n",
    "schema = pd.read_sql_query(query, conn)\n",
    "print(\"\\nTable Schema:\")\n",
    "print(schema)"
   ]
  },
  {
   "cell_type": "code",
   "execution_count": 4,
   "id": "5853117a-6498-4819-926b-f10a2b953d46",
   "metadata": {},
   "outputs": [
    {
     "name": "stdout",
     "output_type": "stream",
     "text": [
      "\n",
      "Sample Data:\n",
      "  Country Name Country Code  Time Time Code  \\\n",
      "0  Afghanistan          AFG  1960    YR1960   \n",
      "1  Afghanistan          AFG  1961    YR1961   \n",
      "2  Afghanistan          AFG  1962    YR1962   \n",
      "3  Afghanistan          AFG  1963    YR1963   \n",
      "4  Afghanistan          AFG  1964    YR1964   \n",
      "\n",
      "  Access to electricity (% of population) [EG.ELC.ACCS.ZS]  \\\n",
      "0                                               None         \n",
      "1                                               None         \n",
      "2                                               None         \n",
      "3                                               None         \n",
      "4                                               None         \n",
      "\n",
      "  Adjusted savings: education expenditure (% of GNI) [NY.ADJ.AEDU.GN.ZS]  \\\n",
      "0                                               None                       \n",
      "1                                               None                       \n",
      "2                                               None                       \n",
      "3                                               None                       \n",
      "4                                               None                       \n",
      "\n",
      "  Automated teller machines (ATMs) (per 100,000 adults) [FB.ATM.TOTL.P5]  \\\n",
      "0                                               None                       \n",
      "1                                               None                       \n",
      "2                                               None                       \n",
      "3                                               None                       \n",
      "4                                               None                       \n",
      "\n",
      "   Birth rate, crude (per 1,000 people) [SP.DYN.CBRT.IN]  \\\n",
      "0                                             50.340       \n",
      "1                                             50.443       \n",
      "2                                             50.570       \n",
      "3                                             50.703       \n",
      "4                                             50.831       \n",
      "\n",
      "   Claims on central government, etc. (% GDP) [FS.AST.CGOV.GD.ZS]  \\\n",
      "0                                           5.016529                \n",
      "1                                           9.388664                \n",
      "2                                          12.093496                \n",
      "3                                          10.857987                \n",
      "4                                          13.899999                \n",
      "\n",
      "  Commercial bank branches (per 100,000 adults) [FB.CBK.BRCH.P5]  ...  \\\n",
      "0                                               None              ...   \n",
      "1                                               None              ...   \n",
      "2                                               None              ...   \n",
      "3                                               None              ...   \n",
      "4                                               None              ...   \n",
      "\n",
      "  Surface area (sq. km) [AG.SRF.TOTL.K2]  \\\n",
      "0                                    NaN   \n",
      "1                               652860.0   \n",
      "2                               652860.0   \n",
      "3                               652860.0   \n",
      "4                               652860.0   \n",
      "\n",
      "  Survival to age 65, female (% of cohort) [SP.DYN.TO65.FE.ZS]  \\\n",
      "0                                          21.190631             \n",
      "1                                          21.819029             \n",
      "2                                          22.397017             \n",
      "3                                          22.973204             \n",
      "4                                          23.546267             \n",
      "\n",
      "   Survival to age 65, male (% of cohort) [SP.DYN.TO65.MA.ZS]  \\\n",
      "0                                          17.743034            \n",
      "1                                          18.350272            \n",
      "2                                          18.878496            \n",
      "3                                          19.395900            \n",
      "4                                          19.941843            \n",
      "\n",
      "  Trade (% of GDP) [NE.TRD.GNFS.ZS]  \\\n",
      "0                         11.157027   \n",
      "1                         12.550610   \n",
      "2                         14.227644   \n",
      "3                         26.035511   \n",
      "4                         26.944448   \n",
      "\n",
      "  UHC service coverage index [SH.UHC.SRVS.CV.XD]  \\\n",
      "0                                           None   \n",
      "1                                           None   \n",
      "2                                           None   \n",
      "3                                           None   \n",
      "4                                           None   \n",
      "\n",
      "  Unemployment, female (% of female labor force) (modeled ILO estimate) [SL.UEM.TOTL.FE.ZS]  \\\n",
      "0                                               None                                          \n",
      "1                                               None                                          \n",
      "2                                               None                                          \n",
      "3                                               None                                          \n",
      "4                                               None                                          \n",
      "\n",
      "  Unemployment, male (% of male labor force) (modeled ILO estimate) [SL.UEM.TOTL.MA.ZS]  \\\n",
      "0                                               None                                      \n",
      "1                                               None                                      \n",
      "2                                               None                                      \n",
      "3                                               None                                      \n",
      "4                                               None                                      \n",
      "\n",
      "  Unemployment, total (% of total labor force) (modeled ILO estimate) [SL.UEM.TOTL.ZS]  \\\n",
      "0                                               None                                     \n",
      "1                                               None                                     \n",
      "2                                               None                                     \n",
      "3                                               None                                     \n",
      "4                                               None                                     \n",
      "\n",
      "  Urban population (% of total population) [SP.URB.TOTL.IN.ZS]  \\\n",
      "0                                              8.401             \n",
      "1                                              8.684             \n",
      "2                                              8.976             \n",
      "3                                              9.276             \n",
      "4                                              9.586             \n",
      "\n",
      "  Voice and Accountability: Estimate [VA.EST]  \n",
      "0                                        None  \n",
      "1                                        None  \n",
      "2                                        None  \n",
      "3                                        None  \n",
      "4                                        None  \n",
      "\n",
      "[5 rows x 63 columns]\n"
     ]
    }
   ],
   "source": [
    "# Display sample data\n",
    "query = f\"SELECT * FROM {table_name} LIMIT 5;\"\n",
    "sample_data = pd.read_sql_query(query, conn)\n",
    "print(\"\\nSample Data:\")\n",
    "print(sample_data)"
   ]
  },
  {
   "cell_type": "code",
   "execution_count": 5,
   "id": "cf82c4ff-9f60-4724-b7bb-b5d7f2adfd13",
   "metadata": {},
   "outputs": [
    {
     "name": "stdout",
     "output_type": "stream",
     "text": [
      "\n",
      "Top 10 Countries by GDP per Capita (current US$):\n",
      "      CountryName  GDP_Per_Capita_USD\n",
      "0          Monaco       182537.387370\n",
      "1   Liechtenstein       165287.186767\n",
      "2      Luxembourg       116905.370397\n",
      "3         Bermuda       107791.886435\n",
      "4         Ireland        85973.088488\n",
      "5     Switzerland        85897.784334\n",
      "6  Cayman Islands        83897.505443\n",
      "7     Isle of Man        79530.605484\n",
      "8          Norway        68340.018103\n",
      "9   United States        63528.634303\n"
     ]
    }
   ],
   "source": [
    "year = 2020\n",
    "query = f\"\"\"\n",
    "SELECT \"Country Name\" AS CountryName, \n",
    "       \"GDP per capita (current US$) [NY.GDP.PCAP.CD]\" AS GDP_Per_Capita_USD\n",
    "FROM {table_name}\n",
    "WHERE \"Time\" = {year}\n",
    "ORDER BY GDP_Per_Capita_USD DESC\n",
    "LIMIT 10;\n",
    "\"\"\"\n",
    "top_gdp_per_capita = pd.read_sql_query(query, conn)\n",
    "print(\"\\nTop 10 Countries by GDP per Capita (current US$):\")\n",
    "print(top_gdp_per_capita)"
   ]
  },
  {
   "cell_type": "code",
   "execution_count": 6,
   "id": "13d0d118-70d1-45e2-b542-898ff7e0e6f1",
   "metadata": {},
   "outputs": [
    {
     "name": "stdout",
     "output_type": "stream",
     "text": [
      "\n",
      "Table Schema:\n",
      "    cid                                               name     type  notnull  \\\n",
      "0     0                                       Country Name     TEXT        0   \n",
      "1     1                                       Country Code     TEXT        0   \n",
      "2     2                                               Time  INTEGER        0   \n",
      "3     3                                          Time Code     TEXT        0   \n",
      "4     4  Access to electricity (% of population) [EG.EL...     REAL        0   \n",
      "..  ...                                                ...      ...      ...   \n",
      "58   58  Unemployment, female (% of female labor force)...     REAL        0   \n",
      "59   59  Unemployment, male (% of male labor force) (mo...     REAL        0   \n",
      "60   60  Unemployment, total (% of total labor force) (...     REAL        0   \n",
      "61   61  Urban population (% of total population) [SP.U...     REAL        0   \n",
      "62   62        Voice and Accountability: Estimate [VA.EST]     REAL        0   \n",
      "\n",
      "   dflt_value  pk  \n",
      "0        None   0  \n",
      "1        None   0  \n",
      "2        None   0  \n",
      "3        None   0  \n",
      "4        None   0  \n",
      "..        ...  ..  \n",
      "58       None   0  \n",
      "59       None   0  \n",
      "60       None   0  \n",
      "61       None   0  \n",
      "62       None   0  \n",
      "\n",
      "[63 rows x 6 columns]\n"
     ]
    }
   ],
   "source": [
    "# Check all column names in the table\n",
    "query = f\"PRAGMA table_info({table_name});\"\n",
    "schema = pd.read_sql_query(query, conn)\n",
    "print(\"\\nTable Schema:\")\n",
    "print(schema)\n"
   ]
  },
  {
   "cell_type": "code",
   "execution_count": 7,
   "id": "1d7392fc-f352-49f0-a867-bf26ef8b5d7d",
   "metadata": {},
   "outputs": [
    {
     "name": "stdout",
     "output_type": "stream",
     "text": [
      "\n",
      "Top 10 Countries with Highest Population:\n",
      "               Country         Population\n",
      "0          Afghanistan  Population, total\n",
      "1              Albania  Population, total\n",
      "2              Algeria  Population, total\n",
      "3       American Samoa  Population, total\n",
      "4              Andorra  Population, total\n",
      "5               Angola  Population, total\n",
      "6  Antigua and Barbuda  Population, total\n",
      "7            Argentina  Population, total\n",
      "8              Armenia  Population, total\n",
      "9                Aruba  Population, total\n"
     ]
    }
   ],
   "source": [
    "# Define the actual table name\n",
    "query = f\"\"\"\n",
    "SELECT [Country Name] AS Country, \"Population, total\" AS Population\n",
    "FROM {table_name}\n",
    "WHERE [Time] = 2020\n",
    "ORDER BY Population DESC\n",
    "LIMIT 10;\n",
    "\"\"\"\n",
    "top_population_countries = pd.read_sql_query(query, conn)\n",
    "print(\"\\nTop 10 Countries with Highest Population:\")\n",
    "print(top_population_countries)"
   ]
  },
  {
   "cell_type": "code",
   "execution_count": 8,
   "id": "e5326593-47a1-4921-b5d6-47814ab4587e",
   "metadata": {},
   "outputs": [
    {
     "name": "stdout",
     "output_type": "stream",
     "text": [
      "\n",
      "Average GDP per Capita by Region in 2020:\n",
      "   Region  AvgGDPPerCapita\n",
      "0  Region     16206.106432\n"
     ]
    }
   ],
   "source": [
    "query = f\"\"\"\n",
    "SELECT \"Region\" AS Region, AVG(\"GDP per capita (current US$) [NY.GDP.PCAP.CD]\") AS AvgGDPPerCapita\n",
    "FROM {table_name}\n",
    "WHERE \"Time\" = 2020\n",
    "GROUP BY \"Region\"\n",
    "ORDER BY AvgGDPPerCapita DESC;\n",
    "\"\"\"\n",
    "\n",
    "avg_gdp_per_capita = pd.read_sql_query(query, conn)\n",
    "print(\"\\nAverage GDP per Capita by Region in 2020:\")\n",
    "print(avg_gdp_per_capita)"
   ]
  },
  {
   "cell_type": "code",
   "execution_count": 9,
   "id": "4ece552e-76a7-429d-8cba-f9661acaa59b",
   "metadata": {},
   "outputs": [
    {
     "name": "stdout",
     "output_type": "stream",
     "text": [
      "\n",
      "Top 10 Countries by Trade as a Percentage of GDP in 2020:\n",
      "                Country  TradePercentage\n",
      "0            Luxembourg       372.271403\n",
      "1  Hong Kong SAR, China       350.679705\n",
      "2                 Malta       333.121276\n",
      "3             Singapore       332.773827\n",
      "4            San Marino       304.903168\n",
      "5               Ireland       247.059719\n",
      "6              Djibouti       222.837983\n",
      "7            Seychelles       179.292369\n",
      "8       Slovak Republic       168.489237\n",
      "9  United Arab Emirates       166.571899\n"
     ]
    }
   ],
   "source": [
    "query = f\"\"\"\n",
    "SELECT \"Country Name\" AS Country, \"Trade (% of GDP) [NE.TRD.GNFS.ZS]\" AS TradePercentage\n",
    "FROM {table_name}\n",
    "WHERE \"Time\" = 2020\n",
    "ORDER BY TradePercentage DESC\n",
    "LIMIT 10;\n",
    "\"\"\"\n",
    "\n",
    "top_trade_countries = pd.read_sql_query(query, conn)\n",
    "print(\"\\nTop 10 Countries by Trade as a Percentage of GDP in 2020:\")\n",
    "print(top_trade_countries)"
   ]
  },
  {
   "cell_type": "code",
   "execution_count": 10,
   "id": "19c9d83b-a744-4a3b-8769-e2e12ed55d01",
   "metadata": {},
   "outputs": [
    {
     "name": "stdout",
     "output_type": "stream",
     "text": [
      "\n",
      "Top 5 Countries with Lowest Access to Electricity in 2020:\n",
      "          Country  ElectricityAccess\n",
      "0  American Samoa                NaN\n",
      "1          Kosovo                NaN\n",
      "2     South Sudan           7.260934\n",
      "3         Burundi           9.100000\n",
      "4            Chad          10.865677\n"
     ]
    }
   ],
   "source": [
    "query = f\"\"\"\n",
    "SELECT \"Country Name\" AS Country, \"Access to electricity (% of population) [EG.ELC.ACCS.ZS]\" AS ElectricityAccess\n",
    "FROM {table_name}\n",
    "WHERE \"Time\" = 2020\n",
    "ORDER BY ElectricityAccess ASC\n",
    "LIMIT 5;\n",
    "\"\"\"\n",
    "\n",
    "lowest_electricity_access = pd.read_sql_query(query, conn)\n",
    "print(\"\\nTop 5 Countries with Lowest Access to Electricity in 2020:\")\n",
    "print(lowest_electricity_access)"
   ]
  },
  {
   "cell_type": "code",
   "execution_count": 11,
   "id": "ec2c8171-963f-494e-9b3b-27b4c8fc8b91",
   "metadata": {},
   "outputs": [
    {
     "name": "stdout",
     "output_type": "stream",
     "text": [
      "\n",
      "Average Inflation by Region (2010-2020):\n",
      "   Region  AvgInflation\n",
      "0  Region      4.794909\n"
     ]
    }
   ],
   "source": [
    "query = f\"\"\"\n",
    "SELECT \"Region\" AS Region, AVG(\"Inflation, GDP deflator (annual %) [NY.GDP.DEFL.KD.ZG]\") AS AvgInflation\n",
    "FROM {table_name}\n",
    "WHERE \"Time\" BETWEEN 2010 AND 2020\n",
    "GROUP BY \"Region\"\n",
    "ORDER BY AvgInflation DESC;\n",
    "\"\"\"\n",
    "\n",
    "average_inflation_by_region = pd.read_sql_query(query, conn)\n",
    "print(\"\\nAverage Inflation by Region (2010-2020):\")\n",
    "print(average_inflation_by_region)"
   ]
  },
  {
   "cell_type": "code",
   "execution_count": 12,
   "id": "0a9eee66-bbff-4245-9ad9-8046de214d52",
   "metadata": {},
   "outputs": [
    {
     "name": "stdout",
     "output_type": "stream",
     "text": [
      "\n",
      "Top 10 Most Urbanized Countries (2020):\n",
      "                     Country  Urbanization\n",
      "0                    Bermuda         100.0\n",
      "1             Cayman Islands         100.0\n",
      "2                  Gibraltar         100.0\n",
      "3       Hong Kong SAR, China         100.0\n",
      "4                     Kuwait         100.0\n",
      "5           Macao SAR, China         100.0\n",
      "6                     Monaco         100.0\n",
      "7                      Nauru         100.0\n",
      "8                  Singapore         100.0\n",
      "9  Sint Maarten (Dutch part)         100.0\n"
     ]
    }
   ],
   "source": [
    "query = f\"\"\"\n",
    "SELECT \"Country Name\" AS Country, \"Urban population (% of total population) [SP.URB.TOTL.IN.ZS]\" AS Urbanization\n",
    "FROM {table_name}\n",
    "WHERE \"Time\" = 2020\n",
    "ORDER BY Urbanization DESC\n",
    "LIMIT 10;\n",
    "\"\"\"\n",
    "\n",
    "top_urbanized_countries = pd.read_sql_query(query, conn)\n",
    "print(\"\\nTop 10 Most Urbanized Countries (2020):\")\n",
    "print(top_urbanized_countries)"
   ]
  },
  {
   "cell_type": "code",
   "execution_count": 13,
   "id": "8c1046a0-7793-4b8a-85f5-2ec151de823c",
   "metadata": {},
   "outputs": [
    {
     "name": "stdout",
     "output_type": "stream",
     "text": [
      "\n",
      "Average GDP Growth by Year:\n",
      "    Year  AvgGDPGrowth\n",
      "0   1960           NaN\n",
      "1   1961      3.397332\n",
      "2   1962      5.018195\n",
      "3   1963      4.953499\n",
      "4   1964      6.276441\n",
      "..   ...           ...\n",
      "59  2019      2.805195\n",
      "60  2020     -4.787038\n",
      "61  2021      5.455545\n",
      "62  2022      4.231347\n",
      "63  2023           NaN\n",
      "\n",
      "[64 rows x 2 columns]\n"
     ]
    }
   ],
   "source": [
    "query = f\"\"\"\n",
    "SELECT \"Time\" AS Year, AVG(\"GDP growth (annual %) [NY.GDP.MKTP.KD.ZG]\") AS AvgGDPGrowth\n",
    "FROM {table_name}\n",
    "GROUP BY Year\n",
    "ORDER BY Year;\n",
    "\"\"\"\n",
    "\n",
    "gdp_growth_trend = pd.read_sql_query(query, conn)\n",
    "print(\"\\nAverage GDP Growth by Year:\")\n",
    "print(gdp_growth_trend)"
   ]
  },
  {
   "cell_type": "code",
   "execution_count": 14,
   "id": "c1435b08-0ea8-4bd6-a610-fed8c56700cb",
   "metadata": {},
   "outputs": [
    {
     "name": "stdout",
     "output_type": "stream",
     "text": [
      "\n",
      "Top 10 Countries by Education Expenditure (% of GNI) in 2020:\n",
      "                 Country  EducationExpenditure\n",
      "0  Micronesia, Fed. Sts.             23.628830\n",
      "1                   Cuba             13.010000\n",
      "2       Marshall Islands             12.738060\n",
      "3         American Samoa             11.760709\n",
      "4        Solomon Islands              9.940000\n",
      "5               Botswana              9.480000\n",
      "6  Virgin Islands (U.S.)              9.356177\n",
      "7                Namibia              8.919051\n",
      "8            Puerto Rico              8.624950\n",
      "9                   Guam              8.316131\n"
     ]
    }
   ],
   "source": [
    "query = f\"\"\"\n",
    "SELECT \"Country Name\" AS Country, \n",
    "       \"Adjusted savings: education expenditure (% of GNI) [NY.ADJ.AEDU.GN.ZS]\" AS EducationExpenditure\n",
    "FROM {table_name}\n",
    "WHERE \"Time\" = 2020\n",
    "ORDER BY EducationExpenditure DESC\n",
    "LIMIT 10;\n",
    "\"\"\"\n",
    "\n",
    "top_education_expenditure = pd.read_sql_query(query, conn)\n",
    "print(\"\\nTop 10 Countries by Education Expenditure (% of GNI) in 2020:\")\n",
    "print(top_education_expenditure)"
   ]
  },
  {
   "cell_type": "code",
   "execution_count": 15,
   "id": "c2e19867-c724-4904-a2e4-51c2e4d763e0",
   "metadata": {},
   "outputs": [
    {
     "name": "stdout",
     "output_type": "stream",
     "text": [
      "\n",
      "GDP Per Capita vs Life Expectancy (2020):\n",
      "     GDPPerCapita  LifeExpectancy\n",
      "0      512.055098       62.575000\n",
      "1     5343.037704       76.989000\n",
      "2     3354.153164       74.453000\n",
      "3    15609.777220             NaN\n",
      "4    37207.238871             NaN\n",
      "..            ...             ...\n",
      "260   1490.349666       60.848894\n",
      "261   1489.449067       60.847493\n",
      "262   1490.349666       60.848894\n",
      "263   8663.002093       75.139004\n",
      "264  10904.147614       72.242675\n",
      "\n",
      "[265 rows x 2 columns]\n"
     ]
    }
   ],
   "source": [
    "query = f\"\"\"\n",
    "SELECT \"GDP per capita (current US$) [NY.GDP.PCAP.CD]\" AS GDPPerCapita,\n",
    "       \"Life expectancy at birth, total (years) [SP.DYN.LE00.IN]\" AS LifeExpectancy\n",
    "FROM {table_name}\n",
    "WHERE \"Time\" = 2020;\n",
    "\"\"\"\n",
    "\n",
    "gdp_vs_life_expectancy = pd.read_sql_query(query, conn)\n",
    "print(\"\\nGDP Per Capita vs Life Expectancy (2020):\")\n",
    "print(gdp_vs_life_expectancy)"
   ]
  },
  {
   "cell_type": "code",
   "execution_count": 16,
   "id": "1d53d86c-895f-48aa-99a5-255c273b73e7",
   "metadata": {},
   "outputs": [
    {
     "name": "stdout",
     "output_type": "stream",
     "text": [
      "Correlation between GDP Per Capita and Life Expectancy:\n",
      "                GDPPerCapita  LifeExpectancy\n",
      "GDPPerCapita        1.000000        0.641097\n",
      "LifeExpectancy      0.641097        1.000000\n"
     ]
    }
   ],
   "source": [
    "# Define your table name explicitly\n",
    "query = f\"\"\"\n",
    "SELECT \"GDP per capita (current US$) [NY.GDP.PCAP.CD]\" AS GDPPerCapita,\n",
    "       \"Life expectancy at birth, total (years) [SP.DYN.LE00.IN]\" AS LifeExpectancy\n",
    "FROM world_development_indicators\n",
    "WHERE \"Time\" = 2020 AND \n",
    "      \"GDP per capita (current US$) [NY.GDP.PCAP.CD]\" IS NOT NULL AND \n",
    "      \"Life expectancy at birth, total (years) [SP.DYN.LE00.IN]\" IS NOT NULL;\n",
    "\"\"\"\n",
    "\n",
    "# Load data into a DataFrame\n",
    "data = pd.read_sql_query(query, conn)\n",
    "\n",
    "# Calculate correlation matrix\n",
    "correlation = data.corr()\n",
    "\n",
    "# Print correlation matrix\n",
    "print(\"Correlation between GDP Per Capita and Life Expectancy:\")\n",
    "print(correlation)"
   ]
  },
  {
   "cell_type": "code",
   "execution_count": 17,
   "id": "b936613e-a580-4ef8-a003-b8d0792ae23f",
   "metadata": {},
   "outputs": [
    {
     "name": "stdout",
     "output_type": "stream",
     "text": [
      "\n",
      "Top 5 Indicators with the Most Missing Values:\n",
      "                                            Indicator  MissingCount\n",
      "57     UHC service coverage index [SH.UHC.SRVS.CV.XD]         15532\n",
      "6   Automated teller machines (ATMs) (per 100,000 ...         13148\n",
      "9   Commercial bank branches (per 100,000 adults) ...         12972\n",
      "50  Prevalence of undernourishment (% of populatio...         12392\n",
      "34        Government Effectiveness: Estimate [GE.EST]         12201\n"
     ]
    }
   ],
   "source": [
    "# Load the table into a DataFrame\n",
    "query = \"SELECT * FROM world_development_indicators;\"\n",
    "data = pd.read_sql_query(query, conn)\n",
    "\n",
    "# Calculate the number of missing values for each column\n",
    "missing_values = data.isnull().sum().reset_index()\n",
    "missing_values.columns = ['Indicator', 'MissingCount']\n",
    "\n",
    "# Sort by the number of missing values in descending order\n",
    "missing_values = missing_values.sort_values(by='MissingCount', ascending=False)\n",
    "\n",
    "# Display the top 5 indicators with the most missing values\n",
    "print(\"\\nTop 5 Indicators with the Most Missing Values:\")\n",
    "print(missing_values.head(5))"
   ]
  },
  {
   "cell_type": "markdown",
   "id": "b3c0e2bd-5a49-451a-b720-8075a029796b",
   "metadata": {},
   "source": [
    "### Step 4: Visualization"
   ]
  },
  {
   "cell_type": "code",
   "execution_count": 18,
   "id": "b2d44d88-ac2b-4e2b-9301-c47f660d0b70",
   "metadata": {},
   "outputs": [
    {
     "data": {
      "image/png": "[encoded data removed]",
      "text/plain": [
       "<Figure size 1200x600 with 1 Axes>"
      ]
     },
     "metadata": {},
     "output_type": "display_data"
    }
   ],
   "source": [
    "plt.figure(figsize=(12, 6))\n",
    "plt.plot(gdp_growth_trend['Year'], gdp_growth_trend['AvgGDPGrowth'], marker='o')\n",
    "plt.title('Average GDP Growth by Year')\n",
    "plt.xlabel('Year')\n",
    "plt.ylabel('Average GDP Growth (%)')\n",
    "plt.grid()\n",
    "plt.show()"
   ]
  },
  {
   "cell_type": "code",
   "execution_count": 19,
   "id": "30119803-eb46-4329-9d1c-ed2101302cbd",
   "metadata": {},
   "outputs": [
    {
     "name": "stderr",
     "output_type": "stream",
     "text": [
      "C:\\Users\\milto\\AppData\\Local\\Temp\\ipykernel_25328\\79177677.py:2: FutureWarning: \n",
      "\n",
      "Passing `palette` without assigning `hue` is deprecated and will be removed in v0.14.0. Assign the `y` variable to `hue` and set `legend=False` for the same effect.\n",
      "\n",
      "  sns.barplot(data=top_education_expenditure,\n"
     ]
    },
    {
     "data": {
      "image/png": "[encoded data removed]",
      "text/plain": [
       "<Figure size 1000x600 with 1 Axes>"
      ]
     },
     "metadata": {},
     "output_type": "display_data"
    }
   ],
   "source": [
    "plt.figure(figsize=(10, 6))\n",
    "sns.barplot(data=top_education_expenditure, \n",
    "            x='EducationExpenditure', \n",
    "            y='Country', \n",
    "            palette='Blues_r')\n",
    "plt.title('Top 10 Countries by Education Expenditure (% of GNI) in 2020')\n",
    "plt.xlabel('Education Expenditure (% of GNI)')\n",
    "plt.ylabel('Country')\n",
    "plt.show()"
   ]
  },
  {
   "cell_type": "code",
   "execution_count": 20,
   "id": "a02bfca9-d96d-4fb3-a91b-8857106765d3",
   "metadata": {},
   "outputs": [],
   "source": [
    "# Recreate necessary DataFrames\n",
    "year = 2020\n",
    "\n",
    "# Top GDP countries\n",
    "query = f\"\"\"\n",
    "SELECT \"Country Name\" AS CountryName, \n",
    "       \"GDP per capita (current US$) [NY.GDP.PCAP.CD]\" AS GDP_Per_Capita_USD\n",
    "FROM {table_name}\n",
    "WHERE \"Time\" = {year}\n",
    "ORDER BY GDP_Per_Capita_USD DESC\n",
    "LIMIT 10;\n",
    "\"\"\"\n",
    "top_gdp_countries = pd.read_sql_query(query, conn)\n",
    "\n",
    "# Life Expectancy Trend\n",
    "query = f\"\"\"\n",
    "SELECT \"Time\" AS Year, \n",
    "       AVG(\"Life expectancy at birth, total (years) [SP.DYN.LE00.IN]\") AS AvgLifeExpectancy\n",
    "FROM {table_name}\n",
    "GROUP BY \"Time\"\n",
    "ORDER BY \"Time\";\n",
    "\"\"\"\n",
    "life_expectancy_trend = pd.read_sql_query(query, conn)\n",
    "\n",
    "# Top Literacy Countries (assuming literacy data is available)\n",
    "query = f\"\"\"\n",
    "SELECT \"Country Name\" AS Country, \n",
    "       \"Literacy rate, adult total (% of people ages 15 and above) [SE.ADT.LITR.ZS]\" AS LiteracyRate\n",
    "FROM {table_name}\n",
    "WHERE \"Time\" = {year}\n",
    "ORDER BY LiteracyRate DESC\n",
    "LIMIT 10;\n",
    "\"\"\"\n",
    "top_literacy_countries = pd.read_sql_query(query, conn)\n",
    "\n",
    "# Population Growth\n",
    "query = f\"\"\"\n",
    "SELECT \"Time\" AS Year, \n",
    "       AVG(\"Population growth (annual %) [SP.POP.GROW]\") AS AvgPopulationGrowth\n",
    "FROM {table_name}\n",
    "GROUP BY \"Time\"\n",
    "ORDER BY \"Time\";\n",
    "\"\"\"\n",
    "population_growth = pd.read_sql_query(query, conn)"
   ]
  },
  {
   "cell_type": "code",
   "execution_count": 21,
   "id": "38d9cab6-1a3d-494d-94f0-974b6ff7ba0e",
   "metadata": {},
   "outputs": [
    {
     "data": {
      "image/png": "[encoded data removed]",
      "text/plain": [
       "<Figure size 1200x600 with 1 Axes>"
      ]
     },
     "metadata": {},
     "output_type": "display_data"
    }
   ],
   "source": [
    "# Visualize Life Expectancy Trend\n",
    "plt.figure(figsize=(12, 6))\n",
    "plt.plot(life_expectancy_trend['Year'], life_expectancy_trend['AvgLifeExpectancy'], marker='o', label='Avg Life Expectancy')\n",
    "plt.title('Life Expectancy Trend Over Years')\n",
    "plt.xlabel('Year')\n",
    "plt.ylabel('Average Life Expectancy')\n",
    "plt.grid()\n",
    "plt.legend()\n",
    "plt.show()\n"
   ]
  },
  {
   "cell_type": "markdown",
   "id": "15cfe8c2-aabe-4999-9bec-2398cd8ef1b8",
   "metadata": {},
   "source": [
    "### Step 5: Save the Output"
   ]
  },
  {
   "cell_type": "code",
   "execution_count": 22,
   "id": "23e17d81-d992-4558-9c30-47396f3aa526",
   "metadata": {},
   "outputs": [
    {
     "name": "stdout",
     "output_type": "stream",
     "text": [
      "\n",
      "Key results saved to CSV files.\n"
     ]
    }
   ],
   "source": [
    "# Save Key Outputs\n",
    "try:\n",
    "    if not top_gdp_countries.empty:\n",
    "        top_gdp_countries.to_csv(\"top_gdp_countries.csv\", index=False)\n",
    "    if not life_expectancy_trend.empty:\n",
    "        life_expectancy_trend.to_csv(\"life_expectancy_trend.csv\", index=False)\n",
    "    if not top_literacy_countries.empty:\n",
    "        top_literacy_countries.to_csv(\"top_literacy_countries.csv\", index=False)\n",
    "    if not population_growth.empty:\n",
    "        population_growth.to_csv(\"population_growth.csv\", index=False)\n",
    "    print(\"\\nKey results saved to CSV files.\")\n",
    "except NameError as e:\n",
    "    print(f\"Error: One or more DataFrames are not defined. Details: {e}\")\n",
    "except Exception as e:\n",
    "    print(f\"An unexpected error occurred while saving files. Details: {e}\")\n"
   ]
  },
  {
   "cell_type": "code",
   "execution_count": 23,
   "id": "6b379d04-0e16-4737-949e-ab36ce05a6df",
   "metadata": {},
   "outputs": [
    {
     "name": "stdout",
     "output_type": "stream",
     "text": [
      "top_gdp_countries.csv saved successfully.\n",
      "life_expectancy_trend.csv saved successfully.\n",
      "top_literacy_countries.csv saved successfully.\n",
      "population_growth.csv saved successfully.\n"
     ]
    }
   ],
   "source": [
    "# Add Output Validation\n",
    "\n",
    "import os\n",
    "\n",
    "# Check if the files were created successfully\n",
    "files = [\"top_gdp_countries.csv\", \"life_expectancy_trend.csv\", \"top_literacy_countries.csv\", \"population_growth.csv\"]\n",
    "\n",
    "for file in files:\n",
    "    if os.path.exists(file):\n",
    "        print(f\"{file} saved successfully.\")\n",
    "    else:\n",
    "        print(f\"Error: {file} was not created.\")\n"
   ]
  }
 ],
 "metadata": {
  "kernelspec": {
   "display_name": "Python 3 (ipykernel)",
   "language": "python",
   "name": "python3"
  },
  "language_info": {
   "codemirror_mode": {
    "name": "ipython",
    "version": 3
   },
   "file_extension": ".py",
   "mimetype": "text/x-python",
   "name": "python",
   "nbconvert_exporter": "python",
   "pygments_lexer": "ipython3",
   "version": "3.12.7"
  }
 },
 "nbformat": 4,
 "nbformat_minor": 5
}
